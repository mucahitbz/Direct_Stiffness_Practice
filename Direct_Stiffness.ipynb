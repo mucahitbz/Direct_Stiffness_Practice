{
  "nbformat": 4,
  "nbformat_minor": 0,
  "metadata": {
    "colab": {
      "provenance": []
    },
    "kernelspec": {
      "name": "python3",
      "display_name": "Python 3"
    },
    "language_info": {
      "name": "python"
    }
  },
  "cells": [
    {
      "cell_type": "code",
      "source": [
        "import numpy as np\n",
        "\n",
        "def frame_element_stiffness(E, A, I, L):\n",
        "    \"\"\"\n",
        "    Çerçeve elemanı için yerel rijitlik matrisi oluşturur.\n",
        "    \"\"\"\n",
        "    k_local = np.array([\n",
        "        [E*A/L,      0,          0,        -E*A/L,      0,          0],\n",
        "        [0,      12*E*I/L**3,  6*E*I/L**2,  0,      -12*E*I/L**3, 6*E*I/L**2],\n",
        "        [0,      6*E*I/L**2,   4*E*I/L,    0,      -6*E*I/L**2,   2*E*I/L],\n",
        "        [-E*A/L,   0,          0,         E*A/L,      0,          0],\n",
        "        [0,     -12*E*I/L**3, -6*E*I/L**2, 0,       12*E*I/L**3, -6*E*I/L**2],\n",
        "        [0,      6*E*I/L**2,   2*E*I/L,    0,      -6*E*I/L**2,   4*E*I/L]\n",
        "    ])\n",
        "    return k_local\n",
        "\n",
        "def rotation_matrix(theta):\n",
        "    \"\"\"\n",
        "    Rotasyon matrisini oluşturur.\n",
        "    \"\"\"\n",
        "    c = np.cos(theta)\n",
        "    s = np.sin(theta)\n",
        "\n",
        "    T = np.array([\n",
        "        [ c,  s,  0,  0,  0,  0],\n",
        "        [-s,  c,  0,  0,  0,  0],\n",
        "        [ 0,  0,  1,  0,  0,  0],\n",
        "        [ 0,  0,  0,  c,  s,  0],\n",
        "        [ 0,  0,  0, -s,  c,  0],\n",
        "        [ 0,  0,  0,  0,  0,  1]\n",
        "    ])\n",
        "    return T\n",
        "\n",
        "def global_stiffness(k_local, T):\n",
        "    \"\"\"\n",
        "    Yerel rijitlik matrisini küresel koordinatlara dönüştürür.\n",
        "    \"\"\"\n",
        "    T_transpose = T.T\n",
        "    k_global = T_transpose @ k_local @ T\n",
        "    return k_global\n",
        "\n",
        "# Kullanıcıdan giriş alalım\n",
        "def user_input():\n",
        "    print(\"Çerçeve Elemanı İçin Küresel Rijitlik Matrisi Hesaplama\")\n",
        "    E = float(input(\"Elastisite Modülü (E) [Pa]: \"))\n",
        "    A = float(input(\"Kesit Alanı (A) [m^2]: \"))\n",
        "    I = float(input(\"Atalet Momenti (I) [m^4]: \"))\n",
        "    L = float(input(\"Eleman Uzunluğu (L) [m]: \"))\n",
        "    theta_deg = float(input(\"Eleman Açısı (θ) [derece]: \"))\n",
        "    theta_rad = np.radians(theta_deg)  # Dereceyi radyana çevir\n",
        "    return E, A, I, L, theta_rad\n",
        "\n",
        "# Ana program\n",
        "if __name__ == \"__main__\":\n",
        "    # Kullanıcıdan parametreleri al\n",
        "    E, A, I, L, theta = user_input()\n",
        "\n",
        "    # Yerel rijitlik matrisini hesapla\n",
        "    k_local = frame_element_stiffness(E, A, I, L)\n",
        "\n",
        "    # Rotasyon matrisini hesapla\n",
        "    T = rotation_matrix(theta)\n",
        "\n",
        "    # Küresel rijitlik matrisini hesapla\n",
        "    k_global = global_stiffness(k_local, T)\n",
        "\n",
        "    # Sonuçları göster\n",
        "    print(\"\\nYerel Rijitlik Matrisi (k_local):\\n\")\n",
        "    print(np.round(k_local, 3))\n",
        "\n",
        "    print(\"\\nRotasyon Matrisi (T):\\n\")\n",
        "    print(np.round(T, 3))\n",
        "\n",
        "    print(\"\\nKüresel Rijitlik Matrisi (k_global):\\n\")\n",
        "    print(np.round(k_global, 3))\n"
      ],
      "metadata": {
        "colab": {
          "base_uri": "https://localhost:8080/"
        },
        "id": "Db_s1fVcZcYZ",
        "outputId": "e6192bac-0cb2-4c8b-9924-cabd3b9aa8f8"
      },
      "execution_count": 2,
      "outputs": [
        {
          "output_type": "stream",
          "name": "stdout",
          "text": [
            "Çerçeve Elemanı İçin Küresel Rijitlik Matrisi Hesaplama\n",
            "Elastisite Modülü (E) [Pa]: 1\n",
            "Kesit Alanı (A) [m^2]: 1\n",
            "Atalet Momenti (I) [m^4]: 1\n",
            "Eleman Uzunluğu (L) [m]: 5\n",
            "Eleman Açısı (θ) [derece]: 323\n",
            "\n",
            "Yerel Rijitlik Matrisi (k_local):\n",
            "\n",
            "[[ 0.2    0.     0.    -0.2    0.     0.   ]\n",
            " [ 0.     0.096  0.24   0.    -0.096  0.24 ]\n",
            " [ 0.     0.24   0.8    0.    -0.24   0.4  ]\n",
            " [-0.2    0.     0.     0.2    0.     0.   ]\n",
            " [ 0.    -0.096 -0.24   0.     0.096 -0.24 ]\n",
            " [ 0.     0.24   0.4    0.    -0.24   0.8  ]]\n",
            "\n",
            "Rotasyon Matrisi (T):\n",
            "\n",
            "[[ 0.799 -0.602  0.     0.     0.     0.   ]\n",
            " [ 0.602  0.799  0.     0.     0.     0.   ]\n",
            " [ 0.     0.     1.     0.     0.     0.   ]\n",
            " [ 0.     0.     0.     0.799 -0.602  0.   ]\n",
            " [ 0.     0.     0.     0.602  0.799  0.   ]\n",
            " [ 0.     0.     0.     0.     0.     1.   ]]\n",
            "\n",
            "Küresel Rijitlik Matrisi (k_global):\n",
            "\n",
            "[[ 0.162 -0.05   0.144 -0.162  0.05   0.144]\n",
            " [-0.05   0.134  0.192  0.05  -0.134  0.192]\n",
            " [ 0.144  0.192  0.8   -0.144 -0.192  0.4  ]\n",
            " [-0.162  0.05  -0.144  0.162 -0.05  -0.144]\n",
            " [ 0.05  -0.134 -0.192 -0.05   0.134 -0.192]\n",
            " [ 0.144  0.192  0.4   -0.144 -0.192  0.8  ]]\n"
          ]
        }
      ]
    },
    {
      "cell_type": "code",
      "source": [
        "A = np.array([\n",
        "    [0],\n",
        "    [0],\n",
        "    [0],\n",
        "    [0],\n",
        "    [27.22],\n",
        "    [33.56]])\n",
        "dLA = T @ A\n",
        "dLA"
      ],
      "metadata": {
        "colab": {
          "base_uri": "https://localhost:8080/"
        },
        "id": "lQQOFYKRUT7_",
        "outputId": "aee41dfd-ed93-44cb-8651-9cf99b7d5059"
      },
      "execution_count": 5,
      "outputs": [
        {
          "output_type": "execute_result",
          "data": {
            "text/plain": [
              "array([[  0.        ],\n",
              "       [  0.        ],\n",
              "       [  0.        ],\n",
              "       [-16.38140493],\n",
              "       [ 21.73885858],\n",
              "       [ 33.56      ]])"
            ]
          },
          "metadata": {},
          "execution_count": 5
        }
      ]
    },
    {
      "cell_type": "code",
      "source": [
        "fL6_ = k_local@dLA\n",
        "fL6_"
      ],
      "metadata": {
        "colab": {
          "base_uri": "https://localhost:8080/"
        },
        "id": "KUYGi9jNVhQk",
        "outputId": "97f33677-7f01-46a9-8f59-e1895b00a81b"
      },
      "execution_count": 6,
      "outputs": [
        {
          "output_type": "execute_result",
          "data": {
            "text/plain": [
              "array([[ 3.27628099],\n",
              "       [ 5.96746958],\n",
              "       [ 8.20667394],\n",
              "       [-3.27628099],\n",
              "       [-5.96746958],\n",
              "       [21.63067394]])"
            ]
          },
          "metadata": {},
          "execution_count": 6
        }
      ]
    },
    {
      "cell_type": "code",
      "source": [
        "fem_ce = np.array(\n",
        "    [[0],\n",
        "    [20],\n",
        "    [25],\n",
        "    [0],\n",
        "    [20],\n",
        "    [-25]])\n",
        "\n",
        "fLce = fL6_ + fem_ce\n",
        "print(fLce)"
      ],
      "metadata": {
        "colab": {
          "base_uri": "https://localhost:8080/"
        },
        "id": "2AwBEA30WG7N",
        "outputId": "b018becf-094e-4e8d-f7d9-da2bf743597f"
      },
      "execution_count": 7,
      "outputs": [
        {
          "output_type": "stream",
          "name": "stdout",
          "text": [
            "[[ 3.27628099]\n",
            " [25.96746958]\n",
            " [33.20667394]\n",
            " [-3.27628099]\n",
            " [14.03253042]\n",
            " [-3.36932606]]\n"
          ]
        }
      ]
    },
    {
      "cell_type": "code",
      "source": [],
      "metadata": {
        "id": "0Xy9BcOwhqVQ"
      },
      "execution_count": null,
      "outputs": []
    }
  ]
}